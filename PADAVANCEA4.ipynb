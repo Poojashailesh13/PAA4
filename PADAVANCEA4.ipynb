{
 "cells": [
  {
   "cell_type": "raw",
   "id": "361d6123",
   "metadata": {},
   "source": [
    "Q1. Which two operator overloading methods can you use in your classes to support iteration?\n",
    "ans-The __iter__ returns the iterator object and is implicitly called at the start of loops. The __next__ method returns the next value and is implicitly called at each loop increment."
   ]
  },
  {
   "cell_type": "raw",
   "id": "d5bb5d59",
   "metadata": {},
   "source": [
    "Q2. In what contexts do the two operator overloading methods manage printing?\n",
    "ans-  depending on the parameters that are passed to the function, or the operands that the operator acts on [1]. In Python, operator overloading (also known as “operator ad-hoc polymorphism”) in particular is a form of ‘syntactic sugar’ that enables powerful and convenient ways to prescribe an operator’s, er, operations, as an infix expression of specified types. Said another way, operator overloading gives extended meaning to operators beyond their pre-defined operational meaning."
   ]
  },
  {
   "cell_type": "raw",
   "id": "e6722563",
   "metadata": {},
   "source": [
    "Q3. In a class, how do you intercept slice operations?\n",
    "ans-we get the slice object that is passed in to __getitem__ and use it to slice the dictionary's key values. Then, using dictionary comprehension, we put all of the sliced keys and values into a new dictionary using our sliced keys."
   ]
  },
  {
   "cell_type": "raw",
   "id": "e9abb7f1",
   "metadata": {},
   "source": [
    "Q4. In a class, how do you capture in-place addition?\n",
    "ans-iadd() This function is used to assign the current value and add them. ...\n",
    "    isub() This function is used to assign the current value and subtract them. ...\n",
    "    imul() This function is used to assign the current value and multiply them. ...\n",
    "    itruediv() ...\n",
    "    imod()"
   ]
  },
  {
   "cell_type": "raw",
   "id": "99bf206d",
   "metadata": {},
   "source": [
    "Q5. When is it appropriate to use operator overloading?\n",
    "ans- Operator overloading is mostly useful when you're making a new class that falls into an existing \"Abstract Base Class\" (ABC) -- indeed, many of the ABCs in standard library module collections rely on the presence of certain special methods (and special methods, one with names starting and ending with double underscores "
   ]
  }
 ],
 "metadata": {
  "kernelspec": {
   "display_name": "Python 3 (ipykernel)",
   "language": "python",
   "name": "python3"
  },
  "language_info": {
   "codemirror_mode": {
    "name": "ipython",
    "version": 3
   },
   "file_extension": ".py",
   "mimetype": "text/x-python",
   "name": "python",
   "nbconvert_exporter": "python",
   "pygments_lexer": "ipython3",
   "version": "3.9.7"
  }
 },
 "nbformat": 4,
 "nbformat_minor": 5
}
